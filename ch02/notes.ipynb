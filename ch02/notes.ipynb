{
 "cells": [
  {
   "attachments": {},
   "cell_type": "markdown",
   "metadata": {},
   "source": [
    "# Module\n",
    "\n",
    "Module is just fancy name for python file\n",
    "\n",
    "`print()`\n",
    "`input()`\n",
    "`int()`\n",
    "\n",
    "## Built-in functions\n",
    "\n",
    "### Library Functions\n",
    "\n",
    "`random`\n",
    "`math`"
   ]
  },
  {
   "cell_type": "code",
   "execution_count": 1,
   "metadata": {},
   "outputs": [
    {
     "name": "stdout",
     "output_type": "stream",
     "text": [
      "3.141592653589793\n"
     ]
    }
   ],
   "source": [
    "import random\n",
    "import math\n",
    "\n",
    "#Always put all imports first in the file\n",
    "\n",
    "print(math.pi)"
   ]
  },
  {
   "attachments": {},
   "cell_type": "markdown",
   "metadata": {},
   "source": [
    "# import\n",
    "\n",
    "<modulename>.<object/function>"
   ]
  },
  {
   "cell_type": "code",
   "execution_count": 9,
   "metadata": {},
   "outputs": [
    {
     "name": "stdout",
     "output_type": "stream",
     "text": [
      "4\n"
     ]
    }
   ],
   "source": [
    "import random\n",
    "\n",
    "mylist = [1, 2, 3, 4, 5, 6, 7, 8, 9, 10]\n",
    "var = random.choice(mylist)\n",
    "print(var)"
   ]
  },
  {
   "attachments": {},
   "cell_type": "markdown",
   "metadata": {},
   "source": [
    "### `dot operator`: `.`\n"
   ]
  },
  {
   "cell_type": "code",
   "execution_count": 1,
   "metadata": {},
   "outputs": [
    {
     "name": "stdout",
     "output_type": "stream",
     "text": [
      "5\n",
      "None\n"
     ]
    }
   ],
   "source": [
    "print( print(5) )\n",
    "\n",
    "var = print()"
   ]
  },
  {
   "cell_type": "code",
   "execution_count": 2,
   "metadata": {},
   "outputs": [
    {
     "name": "stdout",
     "output_type": "stream",
     "text": [
      "[5]\n",
      "[5, 6]\n",
      "[5, 6, 2]\n"
     ]
    }
   ],
   "source": [
    "mynums = []\n",
    "var = int(input(\"Enter 3 numbers: \"))\n",
    "mynums.append(var)\n",
    "print(mynums)\n",
    "var = int(input(\": \"))\n",
    "mynums.append(var)\n",
    "print(mynums)\n",
    "var = int(input(\": \"))\n",
    "mynums.append(var)\n",
    "print(mynums)"
   ]
  },
  {
   "cell_type": "code",
   "execution_count": 4,
   "metadata": {},
   "outputs": [
    {
     "ename": "ValueError",
     "evalue": "invalid literal for int() with base 10: ''",
     "output_type": "error",
     "traceback": [
      "\u001b[0;31m---------------------------------------------------------------------------\u001b[0m",
      "\u001b[0;31mValueError\u001b[0m                                Traceback (most recent call last)",
      "Cell \u001b[0;32mIn[4], line 2\u001b[0m\n\u001b[1;32m      1\u001b[0m mynums \u001b[39m=\u001b[39m []\n\u001b[0;32m----> 2\u001b[0m var \u001b[39m=\u001b[39m \u001b[39mint\u001b[39;49m(\u001b[39minput\u001b[39;49m())\n\u001b[1;32m      3\u001b[0m mynums\u001b[39m.\u001b[39mappend(var)\n\u001b[1;32m      4\u001b[0m \u001b[39mprint\u001b[39m(mynums)\n",
      "\u001b[0;31mValueError\u001b[0m: invalid literal for int() with base 10: ''"
     ]
    }
   ],
   "source": [
    "msg = \"Enter 3 numbers\"\n",
    "mynums = []\n",
    "\n",
    "var = int(input(\":\"))\n",
    "mynums.append(var)\n",
    "print(mynums)\n",
    "var = int(input(\": \"))\n",
    "mynums.append(var)\n",
    "print(mynums)\n",
    "var = int(input(\": \"))\n",
    "mynums.append(var)\n",
    "print(mynums)"
   ]
  },
  {
   "attachments": {},
   "cell_type": "markdown",
   "metadata": {},
   "source": [
    "## For Loop"
   ]
  },
  {
   "attachments": {},
   "cell_type": "markdown",
   "metadata": {},
   "source": [
    "\n",
    "repeat a sequential algorithim on sequential data"
   ]
  },
  {
   "cell_type": "code",
   "execution_count": 14,
   "metadata": {},
   "outputs": [
    {
     "name": "stdout",
     "output_type": "stream",
     "text": [
      "[3]\n",
      "[3, 4]\n",
      "[3, 4, 5]\n",
      "all done\n"
     ]
    }
   ],
   "source": [
    "#for iterating_variable in sequence:\n",
    "    # do something with iterating_variable\n",
    "msg = \"Enter 3 numbers\"\n",
    "mynums = []\n",
    "\n",
    "for _ in ['', '', '']: \n",
    "    var = int(input(\":\"))\n",
    "    mynums.append(var)\n",
    "    print(mynums)\n",
    "print(\"all done\")"
   ]
  },
  {
   "cell_type": "code",
   "execution_count": 9,
   "metadata": {},
   "outputs": [
    {
     "name": "stdout",
     "output_type": "stream",
     "text": [
      "red\n",
      "black\n",
      "orange\n",
      "black\n",
      "yellow\n",
      "black\n",
      "green\n",
      "black\n",
      "blue\n",
      "black\n",
      "purple\n",
      "black\n",
      "['red', 'orange', 'yellow', 'green', 'blue', 'purple']\n"
     ]
    }
   ],
   "source": [
    "colors = [\"red\", \"orange\", \"yellow\", \"green\", \"blue\", \"purple\"]\n",
    "for c in colors:\n",
    "    print(c)\n",
    "    c = \"black\"\n",
    "    print(c)\n",
    "print(colors)"
   ]
  },
  {
   "cell_type": "markdown",
   "metadata": {},
   "source": []
  },
  {
   "attachments": {},
   "cell_type": "markdown",
   "metadata": {},
   "source": [
    "## Block Statement\n",
    "\n",
    "- always ends with a colon\n",
    "- everything that is part of the block is indented"
   ]
  },
  {
   "cell_type": "code",
   "execution_count": 10,
   "metadata": {},
   "outputs": [
    {
     "name": "stdout",
     "output_type": "stream",
     "text": [
      "h\n",
      "e\n",
      "l\n",
      "l\n",
      "o\n"
     ]
    }
   ],
   "source": [
    "for ch in \"hello\":\n",
    "    print(ch)"
   ]
  },
  {
   "attachments": {},
   "cell_type": "markdown",
   "metadata": {},
   "source": [
    "## 2 ways of using a for loop"
   ]
  },
  {
   "cell_type": "code",
   "execution_count": 15,
   "metadata": {},
   "outputs": [
    {
     "name": "stdout",
     "output_type": "stream",
     "text": [
      "2\n",
      "4\n",
      "6\n",
      "8\n",
      "10\n"
     ]
    }
   ],
   "source": [
    "mylist = [1,2,3,4,5]\n",
    "for i in mylist:\n",
    "    print(i+i)"
   ]
  },
  {
   "cell_type": "code",
   "execution_count": 17,
   "metadata": {},
   "outputs": [
    {
     "name": "stdout",
     "output_type": "stream",
     "text": [
      "Happy Birthday\n",
      "Happy Birthday\n",
      "Happy Birthday\n",
      "Happy Birthday\n",
      "Happy Birthday\n"
     ]
    }
   ],
   "source": [
    "mylist = [0]*5\n",
    "for _ in mylist:\n",
    "    print(\"Happy Birthday\")"
   ]
  },
  {
   "attachments": {},
   "cell_type": "markdown",
   "metadata": {},
   "source": [
    "## range()\n",
    "\n",
    "`range(5)` = [0, 1, 2, 3, 4]\n",
    "\n",
    "range generates list values dynamically\n",
    "\n",
    "`[0]*100` # generates a list iof 100 0's and stores it in memory\n",
    "`range(100)` # generate items from a list of 100 as needed\n",
    "\n"
   ]
  },
  {
   "cell_type": "code",
   "execution_count": 23,
   "metadata": {},
   "outputs": [
    {
     "name": "stdout",
     "output_type": "stream",
     "text": [
      "[0, 1, 2, 3, 4]\n",
      "[1, 2, 3, 4]\n",
      "[1, 3, 5, 7, 9, 11, 13, 15, 17, 19]\n"
     ]
    }
   ],
   "source": [
    "result = range(5) # starts at 0 (default), stops at 5 (non-inclusive)\n",
    "print(list(result))\n",
    "result = range(1, 5) # starts at 1 (inclusive), stops at 5 (non-inclusive)\n",
    "print(list(result))\n",
    "result = range(1, 20, 2) # starts at 1 (inclusive), stops at 20 (non-inclusive), steps by 2\n",
    "print(list(result))"
   ]
  },
  {
   "cell_type": "code",
   "execution_count": 35,
   "metadata": {},
   "outputs": [
    {
     "name": "stdout",
     "output_type": "stream",
     "text": [
      "[]\n"
     ]
    }
   ],
   "source": [
    "#print(list(range(11)))\n",
    "#print(list(range(3, 11, 2)))\n",
    "#print(list(range(100, -1, -1)))\n",
    "#print(list(range(10, -11, -5)))\n",
    "print(list(range(100, -1)))"
   ]
  },
  {
   "attachments": {},
   "cell_type": "markdown",
   "metadata": {},
   "source": [
    "range(stop)\n",
    "range(start, stop)\n",
    "range(start, stop, step)"
   ]
  },
  {
   "cell_type": "markdown",
   "metadata": {},
   "source": []
  },
  {
   "cell_type": "code",
   "execution_count": 40,
   "metadata": {},
   "outputs": [
    {
     "name": "stdout",
     "output_type": "stream",
     "text": [
      "[0, 1, 2, 3, 4, 5, 6, 7, 8, 9]\n"
     ]
    }
   ],
   "source": [
    "#print(list(range(101, 0, -1)))\n",
    "\n",
    "mylist = list(range(1, 11))\n",
    "print( list( range( len(mylist) ) ) )"
   ]
  },
  {
   "cell_type": "markdown",
   "metadata": {},
   "source": []
  },
  {
   "cell_type": "code",
   "execution_count": 42,
   "metadata": {},
   "outputs": [
    {
     "name": "stdout",
     "output_type": "stream",
     "text": [
      "Happy Birthday\n",
      "Happy Birthday\n",
      "Happy Birthday\n",
      "Happy Birthday\n",
      "Happy Birthday\n"
     ]
    }
   ],
   "source": [
    "for _ in range(5):\n",
    "    print(\"Happy Birthday\")"
   ]
  },
  {
   "cell_type": "code",
   "execution_count": 44,
   "metadata": {},
   "outputs": [
    {
     "ename": "Terminator",
     "evalue": "",
     "output_type": "error",
     "traceback": [
      "\u001b[0;31m---------------------------------------------------------------------------\u001b[0m",
      "\u001b[0;31mTerminator\u001b[0m                                Traceback (most recent call last)",
      "Cell \u001b[0;32mIn[44], line 4\u001b[0m\n\u001b[1;32m      2\u001b[0m wn \u001b[39m=\u001b[39m turtle\u001b[39m.\u001b[39mScreen()       \u001b[39m# 2.  Create a screen\u001b[39;00m\n\u001b[1;32m      3\u001b[0m wn\u001b[39m.\u001b[39mbgcolor(\u001b[39m'\u001b[39m\u001b[39mgreen\u001b[39m\u001b[39m'\u001b[39m)\n\u001b[0;32m----> 4\u001b[0m donatello \u001b[39m=\u001b[39m turtle\u001b[39m.\u001b[39;49mTurtle()    \u001b[39m# 3.  Create two turtles\u001b[39;00m\n\u001b[1;32m      5\u001b[0m donatello\u001b[39m.\u001b[39mcolor(\u001b[39m'\u001b[39m\u001b[39mpurple\u001b[39m\u001b[39m'\u001b[39m)\n\u001b[1;32m      6\u001b[0m donatello\u001b[39m.\u001b[39mshape(\u001b[39m'\u001b[39m\u001b[39mturtle\u001b[39m\u001b[39m'\u001b[39m)\n",
      "File \u001b[0;32m~/.pyenv/versions/3.10.6/lib/python3.10/turtle.py:3815\u001b[0m, in \u001b[0;36mTurtle.__init__\u001b[0;34m(self, shape, undobuffersize, visible)\u001b[0m\n\u001b[1;32m   3813\u001b[0m \u001b[39mif\u001b[39;00m Turtle\u001b[39m.\u001b[39m_screen \u001b[39mis\u001b[39;00m \u001b[39mNone\u001b[39;00m:\n\u001b[1;32m   3814\u001b[0m     Turtle\u001b[39m.\u001b[39m_screen \u001b[39m=\u001b[39m Screen()\n\u001b[0;32m-> 3815\u001b[0m RawTurtle\u001b[39m.\u001b[39;49m\u001b[39m__init__\u001b[39;49m(\u001b[39mself\u001b[39;49m, Turtle\u001b[39m.\u001b[39;49m_screen,\n\u001b[1;32m   3816\u001b[0m                    shape\u001b[39m=\u001b[39;49mshape,\n\u001b[1;32m   3817\u001b[0m                    undobuffersize\u001b[39m=\u001b[39;49mundobuffersize,\n\u001b[1;32m   3818\u001b[0m                    visible\u001b[39m=\u001b[39;49mvisible)\n",
      "File \u001b[0;32m~/.pyenv/versions/3.10.6/lib/python3.10/turtle.py:2558\u001b[0m, in \u001b[0;36mRawTurtle.__init__\u001b[0;34m(self, canvas, shape, undobuffersize, visible)\u001b[0m\n\u001b[1;32m   2556\u001b[0m \u001b[39mself\u001b[39m\u001b[39m.\u001b[39m_undobuffersize \u001b[39m=\u001b[39m undobuffersize\n\u001b[1;32m   2557\u001b[0m \u001b[39mself\u001b[39m\u001b[39m.\u001b[39mundobuffer \u001b[39m=\u001b[39m Tbuffer(undobuffersize)\n\u001b[0;32m-> 2558\u001b[0m \u001b[39mself\u001b[39;49m\u001b[39m.\u001b[39;49m_update()\n",
      "File \u001b[0;32m~/.pyenv/versions/3.10.6/lib/python3.10/turtle.py:2661\u001b[0m, in \u001b[0;36mRawTurtle._update\u001b[0;34m(self)\u001b[0m\n\u001b[1;32m   2659\u001b[0m     \u001b[39mreturn\u001b[39;00m\n\u001b[1;32m   2660\u001b[0m \u001b[39melif\u001b[39;00m screen\u001b[39m.\u001b[39m_tracing \u001b[39m==\u001b[39m \u001b[39m1\u001b[39m:\n\u001b[0;32m-> 2661\u001b[0m     \u001b[39mself\u001b[39;49m\u001b[39m.\u001b[39;49m_update_data()\n\u001b[1;32m   2662\u001b[0m     \u001b[39mself\u001b[39m\u001b[39m.\u001b[39m_drawturtle()\n\u001b[1;32m   2663\u001b[0m     screen\u001b[39m.\u001b[39m_update()                  \u001b[39m# TurtleScreenBase\u001b[39;00m\n",
      "File \u001b[0;32m~/.pyenv/versions/3.10.6/lib/python3.10/turtle.py:2647\u001b[0m, in \u001b[0;36mRawTurtle._update_data\u001b[0;34m(self)\u001b[0m\n\u001b[1;32m   2646\u001b[0m \u001b[39mdef\u001b[39;00m \u001b[39m_update_data\u001b[39m(\u001b[39mself\u001b[39m):\n\u001b[0;32m-> 2647\u001b[0m     \u001b[39mself\u001b[39;49m\u001b[39m.\u001b[39;49mscreen\u001b[39m.\u001b[39;49m_incrementudc()\n\u001b[1;32m   2648\u001b[0m     \u001b[39mif\u001b[39;00m \u001b[39mself\u001b[39m\u001b[39m.\u001b[39mscreen\u001b[39m.\u001b[39m_updatecounter \u001b[39m!=\u001b[39m \u001b[39m0\u001b[39m:\n\u001b[1;32m   2649\u001b[0m         \u001b[39mreturn\u001b[39;00m\n",
      "File \u001b[0;32m~/.pyenv/versions/3.10.6/lib/python3.10/turtle.py:1293\u001b[0m, in \u001b[0;36mTurtleScreen._incrementudc\u001b[0;34m(self)\u001b[0m\n\u001b[1;32m   1291\u001b[0m \u001b[39mif\u001b[39;00m \u001b[39mnot\u001b[39;00m TurtleScreen\u001b[39m.\u001b[39m_RUNNING:\n\u001b[1;32m   1292\u001b[0m     TurtleScreen\u001b[39m.\u001b[39m_RUNNING \u001b[39m=\u001b[39m \u001b[39mTrue\u001b[39;00m\n\u001b[0;32m-> 1293\u001b[0m     \u001b[39mraise\u001b[39;00m Terminator\n\u001b[1;32m   1294\u001b[0m \u001b[39mif\u001b[39;00m \u001b[39mself\u001b[39m\u001b[39m.\u001b[39m_tracing \u001b[39m>\u001b[39m \u001b[39m0\u001b[39m:\n\u001b[1;32m   1295\u001b[0m     \u001b[39mself\u001b[39m\u001b[39m.\u001b[39m_updatecounter \u001b[39m+\u001b[39m\u001b[39m=\u001b[39m \u001b[39m1\u001b[39m\n",
      "\u001b[0;31mTerminator\u001b[0m: "
     ]
    }
   ],
   "source": [
    "import turtle              # 1.  import the modules\n",
    "wn = turtle.Screen()       # 2.  Create a screen\n",
    "wn.bgcolor('green')\n",
    "donatello = turtle.Turtle()    # 3.  Create two turtles\n",
    "donatello.color('purple')\n",
    "donatello.shape('turtle')\n",
    "donatello.left(90)\n",
    "donatello.forward(50)\n",
    "donatello.left(90)\n",
    "donatello.forward(50)\n",
    "donatello.left(90)\n",
    "donatello.forward(50)\n",
    "donatello.left(90)\n",
    "donatello.forward(50)\n",
    "donatello.color('red')\n",
    "donatello.up()\n",
    "donatello.goto(100, 100)\n",
    "donatello.down()\n",
    "donatello.left(90)\n",
    "donatello.forward(50)\n",
    "donatello.left(90)\n",
    "donatello.forward(50)\n",
    "donatello.left(90)\n",
    "donatello.forward(50)\n",
    "donatello.left(90)\n",
    "donatello.forward(50)\n",
    "wn.exitonclick()"
   ]
  },
  {
   "cell_type": "code",
   "execution_count": null,
   "metadata": {},
   "outputs": [],
   "source": []
  },
  {
   "cell_type": "code",
   "execution_count": 47,
   "metadata": {},
   "outputs": [
    {
     "ename": "Terminator",
     "evalue": "",
     "output_type": "error",
     "traceback": [
      "\u001b[0;31m---------------------------------------------------------------------------\u001b[0m",
      "\u001b[0;31mTerminator\u001b[0m                                Traceback (most recent call last)",
      "Cell \u001b[0;32mIn[47], line 4\u001b[0m\n\u001b[1;32m      2\u001b[0m wn \u001b[39m=\u001b[39m turtle\u001b[39m.\u001b[39mScreen()       \u001b[39m# 2.  Create a screen\u001b[39;00m\n\u001b[1;32m      3\u001b[0m wn\u001b[39m.\u001b[39mbgcolor(\u001b[39m'\u001b[39m\u001b[39mgreen\u001b[39m\u001b[39m'\u001b[39m)\n\u001b[0;32m----> 4\u001b[0m donatello \u001b[39m=\u001b[39m turtle\u001b[39m.\u001b[39;49mTurtle()    \u001b[39m# 3.  Create two turtles\u001b[39;00m\n\u001b[1;32m      5\u001b[0m donatello\u001b[39m.\u001b[39mcolor(\u001b[39m'\u001b[39m\u001b[39mpurple\u001b[39m\u001b[39m'\u001b[39m)\n\u001b[1;32m      6\u001b[0m donatello\u001b[39m.\u001b[39mshape(\u001b[39m'\u001b[39m\u001b[39mturtle\u001b[39m\u001b[39m'\u001b[39m)\n",
      "File \u001b[0;32m~/.pyenv/versions/3.10.6/lib/python3.10/turtle.py:3815\u001b[0m, in \u001b[0;36mTurtle.__init__\u001b[0;34m(self, shape, undobuffersize, visible)\u001b[0m\n\u001b[1;32m   3813\u001b[0m \u001b[39mif\u001b[39;00m Turtle\u001b[39m.\u001b[39m_screen \u001b[39mis\u001b[39;00m \u001b[39mNone\u001b[39;00m:\n\u001b[1;32m   3814\u001b[0m     Turtle\u001b[39m.\u001b[39m_screen \u001b[39m=\u001b[39m Screen()\n\u001b[0;32m-> 3815\u001b[0m RawTurtle\u001b[39m.\u001b[39;49m\u001b[39m__init__\u001b[39;49m(\u001b[39mself\u001b[39;49m, Turtle\u001b[39m.\u001b[39;49m_screen,\n\u001b[1;32m   3816\u001b[0m                    shape\u001b[39m=\u001b[39;49mshape,\n\u001b[1;32m   3817\u001b[0m                    undobuffersize\u001b[39m=\u001b[39;49mundobuffersize,\n\u001b[1;32m   3818\u001b[0m                    visible\u001b[39m=\u001b[39;49mvisible)\n",
      "File \u001b[0;32m~/.pyenv/versions/3.10.6/lib/python3.10/turtle.py:2558\u001b[0m, in \u001b[0;36mRawTurtle.__init__\u001b[0;34m(self, canvas, shape, undobuffersize, visible)\u001b[0m\n\u001b[1;32m   2556\u001b[0m \u001b[39mself\u001b[39m\u001b[39m.\u001b[39m_undobuffersize \u001b[39m=\u001b[39m undobuffersize\n\u001b[1;32m   2557\u001b[0m \u001b[39mself\u001b[39m\u001b[39m.\u001b[39mundobuffer \u001b[39m=\u001b[39m Tbuffer(undobuffersize)\n\u001b[0;32m-> 2558\u001b[0m \u001b[39mself\u001b[39;49m\u001b[39m.\u001b[39;49m_update()\n",
      "File \u001b[0;32m~/.pyenv/versions/3.10.6/lib/python3.10/turtle.py:2661\u001b[0m, in \u001b[0;36mRawTurtle._update\u001b[0;34m(self)\u001b[0m\n\u001b[1;32m   2659\u001b[0m     \u001b[39mreturn\u001b[39;00m\n\u001b[1;32m   2660\u001b[0m \u001b[39melif\u001b[39;00m screen\u001b[39m.\u001b[39m_tracing \u001b[39m==\u001b[39m \u001b[39m1\u001b[39m:\n\u001b[0;32m-> 2661\u001b[0m     \u001b[39mself\u001b[39;49m\u001b[39m.\u001b[39;49m_update_data()\n\u001b[1;32m   2662\u001b[0m     \u001b[39mself\u001b[39m\u001b[39m.\u001b[39m_drawturtle()\n\u001b[1;32m   2663\u001b[0m     screen\u001b[39m.\u001b[39m_update()                  \u001b[39m# TurtleScreenBase\u001b[39;00m\n",
      "File \u001b[0;32m~/.pyenv/versions/3.10.6/lib/python3.10/turtle.py:2647\u001b[0m, in \u001b[0;36mRawTurtle._update_data\u001b[0;34m(self)\u001b[0m\n\u001b[1;32m   2646\u001b[0m \u001b[39mdef\u001b[39;00m \u001b[39m_update_data\u001b[39m(\u001b[39mself\u001b[39m):\n\u001b[0;32m-> 2647\u001b[0m     \u001b[39mself\u001b[39;49m\u001b[39m.\u001b[39;49mscreen\u001b[39m.\u001b[39;49m_incrementudc()\n\u001b[1;32m   2648\u001b[0m     \u001b[39mif\u001b[39;00m \u001b[39mself\u001b[39m\u001b[39m.\u001b[39mscreen\u001b[39m.\u001b[39m_updatecounter \u001b[39m!=\u001b[39m \u001b[39m0\u001b[39m:\n\u001b[1;32m   2649\u001b[0m         \u001b[39mreturn\u001b[39;00m\n",
      "File \u001b[0;32m~/.pyenv/versions/3.10.6/lib/python3.10/turtle.py:1293\u001b[0m, in \u001b[0;36mTurtleScreen._incrementudc\u001b[0;34m(self)\u001b[0m\n\u001b[1;32m   1291\u001b[0m \u001b[39mif\u001b[39;00m \u001b[39mnot\u001b[39;00m TurtleScreen\u001b[39m.\u001b[39m_RUNNING:\n\u001b[1;32m   1292\u001b[0m     TurtleScreen\u001b[39m.\u001b[39m_RUNNING \u001b[39m=\u001b[39m \u001b[39mTrue\u001b[39;00m\n\u001b[0;32m-> 1293\u001b[0m     \u001b[39mraise\u001b[39;00m Terminator\n\u001b[1;32m   1294\u001b[0m \u001b[39mif\u001b[39;00m \u001b[39mself\u001b[39m\u001b[39m.\u001b[39m_tracing \u001b[39m>\u001b[39m \u001b[39m0\u001b[39m:\n\u001b[1;32m   1295\u001b[0m     \u001b[39mself\u001b[39m\u001b[39m.\u001b[39m_updatecounter \u001b[39m+\u001b[39m\u001b[39m=\u001b[39m \u001b[39m1\u001b[39m\n",
      "\u001b[0;31mTerminator\u001b[0m: "
     ]
    }
   ],
   "source": [
    "import turtle              # 1.  import the modules\n",
    "wn = turtle.Screen()       # 2.  Create a screen\n",
    "wn.bgcolor('green')\n",
    "donatello = turtle.Turtle()    # 3.  Create two turtles\n",
    "donatello.color('purple')\n",
    "donatello.shape('turtle')\n",
    "\n",
    "for _ in range(4):\n",
    "    donatello.left(90)\n",
    "    donatello.forward(50)\n",
    "donatello.color('red')\n",
    "donatello.up()\n",
    "donatello.goto(100, 100)\n",
    "donatello.down()\n",
    "for _ in range(4):\n",
    "    donatello.left(90)\n",
    "    donatello.forward(50)\n",
    "wn.exitonclick()"
   ]
  }
 ],
 "metadata": {
  "kernelspec": {
   "display_name": "Python 3",
   "language": "python",
   "name": "python3"
  },
  "language_info": {
   "codemirror_mode": {
    "name": "ipython",
    "version": 3
   },
   "file_extension": ".py",
   "mimetype": "text/x-python",
   "name": "python",
   "nbconvert_exporter": "python",
   "pygments_lexer": "ipython3",
   "version": "3.10.6"
  },
  "orig_nbformat": 4,
  "vscode": {
   "interpreter": {
    "hash": "22b49e082a6af4654917cc1c24605484f8cbe21704d727f715075b4781281d96"
   }
  }
 },
 "nbformat": 4,
 "nbformat_minor": 2
}
