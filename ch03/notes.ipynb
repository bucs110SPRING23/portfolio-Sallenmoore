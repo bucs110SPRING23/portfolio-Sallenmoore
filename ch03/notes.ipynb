{
 "cells": [],
 "metadata": {
  "kernelspec": {
   "display_name": "Python 3",
   "language": "python",
   "name": "python3"
  },
  "language_info": {
   "codemirror_mode": {
    "name": "ipython",
    "version": 3
   },
   "file_extension": ".py",
   "mimetype": "text/x-python",
   "name": "python",
   "nbconvert_exporter": "python",
   "pygments_lexer": "ipython3",
   "version": "3.10.6"
  },
  "orig_nbformat": 4,
  "vscode": {
   "interpreter": {
    "hash": "22b49e082a6af4654917cc1c24605484f8cbe21704d727f715075b4781281d96"
   }
  }
 },
 "nbformat": 4,
 "nbformat_minor": 2
}
