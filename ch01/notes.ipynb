{
 "cells": [
  {
   "attachments": {},
   "cell_type": "markdown",
   "metadata": {},
   "source": [
    "int: whole number, 1\n",
    "float: decimal number, 0.0\n",
    "str: text, \"hello\""
   ]
  },
  {
   "cell_type": "code",
   "execution_count": 1,
   "metadata": {},
   "outputs": [
    {
     "name": "stdout",
     "output_type": "stream",
     "text": [
      "1 2 3.0\n"
     ]
    }
   ],
   "source": [
    "print(1, \"2\", 3.0)"
   ]
  },
  {
   "cell_type": "code",
   "execution_count": null,
   "metadata": {},
   "outputs": [],
   "source": [
    "1 not equal \"1\""
   ]
  },
  {
   "cell_type": "code",
   "execution_count": 2,
   "metadata": {},
   "outputs": [
    {
     "name": "stdout",
     "output_type": "stream",
     "text": [
      "2\n",
      "25\n"
     ]
    }
   ],
   "source": [
    "print(1+1)\n",
    "print(5**2)"
   ]
  },
  {
   "cell_type": "code",
   "execution_count": null,
   "metadata": {},
   "outputs": [],
   "source": [
    "print(5*9)\n",
    "print(5*10)\n",
    "print(5*34567)"
   ]
  },
  {
   "attachments": {},
   "cell_type": "markdown",
   "metadata": {},
   "source": [
    "Separate things that change from things that stay the same\n",
    " \n",
    "Dry: Don't Repeat Yourself"
   ]
  },
  {
   "attachments": {},
   "cell_type": "markdown",
   "metadata": {},
   "source": [
    "## Variables\n",
    "\n",
    "variables like a bucket for data\n",
    " - put things in \n",
    " - take things out\n",
    " - pass them around\n",
    "\n",
    " numbers, letters, underscores, no spaces, must start with a lowercase letter\n",
    "\n",
    " `=`: assignment operator, programnmners refer to it as equal"
   ]
  },
  {
   "cell_type": "code",
   "execution_count": 8,
   "metadata": {},
   "outputs": [
    {
     "name": "stdout",
     "output_type": "stream",
     "text": [
      "13\n",
      "17\n",
      "3474\n",
      "<class 'int'>\n",
      "<class 'str'>\n",
      "55 7 55\n"
     ]
    }
   ],
   "source": [
    "var1_data = 7\n",
    "\n",
    "print(var1_data + 6)\n",
    "print(var1_data + 10)\n",
    "print(var1_data + 3467)\n",
    "\n",
    "\n",
    "print(type(var1_data))\n",
    "\n",
    "var1_data = \"7\"\n",
    "print(type(var1_data))\n",
    "\n",
    "print(55, \"7\", ord(\"7\")) #types"
   ]
  },
  {
   "attachments": {},
   "cell_type": "markdown",
   "metadata": {},
   "source": [
    "Every value in a computer also has a type"
   ]
  },
  {
   "attachments": {},
   "cell_type": "markdown",
   "metadata": {},
   "source": [
    "# Container Types\n",
    "\n",
    "- data that only holds other data"
   ]
  },
  {
   "cell_type": "code",
   "execution_count": 16,
   "metadata": {},
   "outputs": [
    {
     "name": "stdout",
     "output_type": "stream",
     "text": [
      "1\n",
      "3\n",
      "length: 5\n"
     ]
    }
   ],
   "source": [
    "#list\n",
    "\n",
    "mylist = [1, \"2\", 3, 4.0, 5]\n",
    "\n",
    "print(mylist[0]) #0 indexed\n",
    "print(mylist[2])\n",
    "\n",
    "print( \"length:\", len(mylist) )\n",
    "\n",
    "print(mylist[-1])\n",
    "print(mylist[-2])\n",
    "#print(mylist[8]) #ERROR\n"
   ]
  },
  {
   "attachments": {},
   "cell_type": "markdown",
   "metadata": {},
   "source": [
    "first item in the list is index 0\n",
    "last item in the list is length of list - 1\n"
   ]
  },
  {
   "cell_type": "markdown",
   "metadata": {},
   "source": []
  },
  {
   "cell_type": "code",
   "execution_count": 24,
   "metadata": {},
   "outputs": [
    {
     "name": "stdout",
     "output_type": "stream",
     "text": [
      "['red', 'green', 'blue'] 3\n",
      "['red', 'purple', 'blue']\n",
      "['red', 'purple', 'blue', 'yellow']\n",
      "['red', 'purple', 'yellow']\n"
     ]
    }
   ],
   "source": [
    "mycolors = [\n",
    "    \"red\",\n",
    "    \"green\",\n",
    "    \"blue\"\n",
    "]\n",
    "\n",
    "print(mycolors, len(mycolors))\n",
    "\n",
    "mycolors[1] = \"purple\"\n",
    "print(mycolors)\n",
    "\n",
    "\n",
    "mycolors.append(\"yellow\")\n",
    "print(mycolors)\n",
    "\n",
    "del mycolors[2]\n",
    "print(mycolors)"
   ]
  },
  {
   "attachments": {},
   "cell_type": "markdown",
   "metadata": {},
   "source": [
    "# Runtime Operations / Runtime Data\n",
    "\n",
    "\n",
    "`var = input(\"prompt\")`\n",
    "\n",
    "\"prompt\"\n",
    "\n",
    "**must save the data in a variable**"
   ]
  },
  {
   "cell_type": "code",
   "execution_count": 2,
   "metadata": {},
   "outputs": [
    {
     "data": {
      "text/plain": [
       "'5'"
      ]
     },
     "execution_count": 2,
     "metadata": {},
     "output_type": "execute_result"
    }
   ],
   "source": [
    "var = 4\n",
    "input(\"Enter a number: \") #won't save the value\n",
    "\n",
    "myinputdata = input(\"Enter a number: \")"
   ]
  },
  {
   "cell_type": "code",
   "execution_count": 8,
   "metadata": {},
   "outputs": [
    {
     "name": "stdout",
     "output_type": "stream",
     "text": [
      " <class 'str'>\n"
     ]
    },
    {
     "ename": "ValueError",
     "evalue": "invalid literal for int() with base 10: ''",
     "output_type": "error",
     "traceback": [
      "\u001b[0;31m---------------------------------------------------------------------------\u001b[0m",
      "\u001b[0;31mValueError\u001b[0m                                Traceback (most recent call last)",
      "Cell \u001b[0;32mIn[8], line 4\u001b[0m\n\u001b[1;32m      2\u001b[0m \u001b[39mprint\u001b[39m(data, \u001b[39mtype\u001b[39m(data))\n\u001b[1;32m      3\u001b[0m \u001b[39m#print(data + 1) #ERROR\u001b[39;00m\n\u001b[0;32m----> 4\u001b[0m data \u001b[39m=\u001b[39m \u001b[39mint\u001b[39;49m(data)\n\u001b[1;32m      5\u001b[0m \u001b[39m#var = int(data)\u001b[39;00m\n\u001b[1;32m      6\u001b[0m \u001b[39mprint\u001b[39m(data, \u001b[39mtype\u001b[39m(data))\n",
      "\u001b[0;31mValueError\u001b[0m: invalid literal for int() with base 10: ''"
     ]
    }
   ],
   "source": [
    "data = input(\"Enter some data:\")\n",
    "print(data, type(data))\n",
    "#print(data + 1) #ERROR\n",
    "data = int(data)\n",
    "#var = int(data)\n",
    "print(data, type(data))\n",
    "print(data + 1)\n",
    "\n",
    "data = int(input(\"Enter some data:\"))\n",
    "print(data, type(data))"
   ]
  },
  {
   "attachments": {},
   "cell_type": "markdown",
   "metadata": {},
   "source": [
    "all data returned by input is a `str`\n",
    "\n",
    "\n",
    "`str`: text, uses \"\" or ''\n",
    "- \"Hello\"\n",
    "`float`: decimal number, 0.0\n",
    "`int`: whole number, 1, -1, 0\n",
    "`list`: a list of things, [1, 2, 3]"
   ]
  },
  {
   "cell_type": "code",
   "execution_count": 12,
   "metadata": {},
   "outputs": [
    {
     "name": "stdout",
     "output_type": "stream",
     "text": [
      "4  is a number\n",
      "4.0  is a number\n"
     ]
    },
    {
     "ename": "ValueError",
     "evalue": "invalid literal for int() with base 10: '4.0'",
     "output_type": "error",
     "traceback": [
      "\u001b[0;31m---------------------------------------------------------------------------\u001b[0m",
      "\u001b[0;31mValueError\u001b[0m                                Traceback (most recent call last)",
      "Cell \u001b[0;32mIn[12], line 8\u001b[0m\n\u001b[1;32m      6\u001b[0m var \u001b[39m=\u001b[39m \u001b[39m\"\u001b[39m\u001b[39m4.0\u001b[39m\u001b[39m\"\u001b[39m\n\u001b[1;32m      7\u001b[0m \u001b[39mfloat\u001b[39m(var)\n\u001b[0;32m----> 8\u001b[0m \u001b[39mint\u001b[39;49m(var) \u001b[39m#ERROR\u001b[39;00m\n",
      "\u001b[0;31mValueError\u001b[0m: invalid literal for int() with base 10: '4.0'"
     ]
    }
   ],
   "source": [
    "var = 4\n",
    "# print(type(var))\n",
    "print(str(var), \" is a number\")\n",
    "print(float(var), \" is a number\")\n",
    "\n",
    "\n",
    "var = \"4.0\"\n",
    "float(var)\n",
    "int(var) #ERROR"
   ]
  },
  {
   "cell_type": "code",
   "execution_count": 13,
   "metadata": {},
   "outputs": [
    {
     "name": "stdout",
     "output_type": "stream",
     "text": [
      "['H', 'e', 'l', 'l', 'o']\n"
     ]
    }
   ],
   "source": [
    "msg = \"Hello\"\n",
    "list_msg = list(msg)\n",
    "print(list_msg)"
   ]
  },
  {
   "cell_type": "code",
   "execution_count": 14,
   "metadata": {},
   "outputs": [
    {
     "ename": "TypeError",
     "evalue": "'int' object is not iterable",
     "output_type": "error",
     "traceback": [
      "\u001b[0;31m---------------------------------------------------------------------------\u001b[0m",
      "\u001b[0;31mTypeError\u001b[0m                                 Traceback (most recent call last)",
      "Cell \u001b[0;32mIn[14], line 2\u001b[0m\n\u001b[1;32m      1\u001b[0m msg \u001b[39m=\u001b[39m \u001b[39m1\u001b[39m\n\u001b[0;32m----> 2\u001b[0m list_msg \u001b[39m=\u001b[39m \u001b[39mlist\u001b[39;49m(msg)\n\u001b[1;32m      3\u001b[0m \u001b[39mprint\u001b[39m(list_msg)\n",
      "\u001b[0;31mTypeError\u001b[0m: 'int' object is not iterable"
     ]
    }
   ],
   "source": [
    "\n",
    "msg = 1\n",
    "list_msg = list(msg)\n",
    "print(list_msg)"
   ]
  }
 ],
 "metadata": {
  "kernelspec": {
   "display_name": "Python 3",
   "language": "python",
   "name": "python3"
  },
  "language_info": {
   "codemirror_mode": {
    "name": "ipython",
    "version": 3
   },
   "file_extension": ".py",
   "mimetype": "text/x-python",
   "name": "python",
   "nbconvert_exporter": "python",
   "pygments_lexer": "ipython3",
   "version": "3.10.6"
  },
  "orig_nbformat": 4,
  "vscode": {
   "interpreter": {
    "hash": "22b49e082a6af4654917cc1c24605484f8cbe21704d727f715075b4781281d96"
   }
  }
 },
 "nbformat": 4,
 "nbformat_minor": 2
}
